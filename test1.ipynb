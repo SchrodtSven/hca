{
 "cells": [
  {
   "cell_type": "markdown",
   "id": "a9824fa0",
   "metadata": {},
   "source": [
    "# Gesundheitswesen"
   ]
  },
  {
   "cell_type": "code",
   "execution_count": 2,
   "id": "62333d28",
   "metadata": {},
   "outputs": [
    {
     "data": {
      "text/html": [
       "\n",
       "        <iframe\n",
       "            width=\"100%\"\n",
       "            height=\"650\"\n",
       "            src=\"http://127.0.0.1:4711/\"\n",
       "            frameborder=\"0\"\n",
       "            allowfullscreen\n",
       "            \n",
       "        ></iframe>\n",
       "        "
      ],
      "text/plain": [
       "<IPython.lib.display.IFrame at 0x117ad3ed0>"
      ]
     },
     "metadata": {},
     "output_type": "display_data"
    }
   ],
   "source": [
    "from dash import Dash, html, dash_table, dcc, callback, Output, Input\n",
    "import pandas as pd\n",
    "import plotly.express as px\n",
    "import dash_bootstrap_components as dbc\n",
    "from dd import DataDictionary as dd\n",
    "\n",
    "df_s = pd.read_csv(\"data/23111-0001_de_san.csv\", sep=\";\")\n",
    "# Keys: 'anz_kh', 'bett', 'bett_100k','pat_100k', 'ber_bch', 'verweil_dschn', 'bett_aus_dschn'\n",
    "\n",
    "cols = ['anz_kh', 'bett_100k','pat_100k']\n",
    "dta = [{'label':' ' +dd.raw[k] + ' ('+k+')', 'value':k } for k in cols]\n",
    "# Anfangsbelegung\n",
    "start_val = ['anz_kh']\n",
    "app = Dash()\n",
    "# App layout'\n",
    "fig = px.line(df_s, x=\"jahr\", y=start_val)\n",
    "\n",
    "app.layout = [\n",
    "    html.H1(children=\"Grunddaten der Krankenhäuser\", className=\"app-header\",),\n",
    "    html.Hr(),\n",
    "    dash_table.DataTable(\n",
    "        data=df_s.to_dict(\"records\"),\n",
    "        columns=[{\"name\": i, \"id\": i} for i in df_s.columns],\n",
    "        page_size=3,\n",
    "        style_header={\"backgroundColor\": \"rgb(30, 30, 30)\", \"color\": \"white\"},\n",
    "        style_data={\"backgroundColor\": \"rgb(50, 50, 50)\", \"color\": \"white\"},\n",
    "    ),\n",
    "    dcc.Checklist(options=dta, id='controls-and-check-item', value=start_val, inline=True),\n",
    "    dcc.Graph(figure=fig, id=\"controls-and-graph\"),\n",
    "    \n",
    "]\n",
    "\n",
    "@callback(\n",
    "    Output(component_id=\"controls-and-graph\", component_property=\"figure\"),\n",
    "    Input(component_id=\"controls-and-check-item\", component_property=\"value\"),\n",
    ")\n",
    "   \n",
    "\n",
    "\n",
    "def update_graph(col_chosen):\n",
    "    fig = px.line(df_s, x=\"jahr\", y=col_chosen)\n",
    "    return fig\n",
    "\n",
    "\n",
    "if __name__ == \"__main__\":\n",
    "    app.run(debug=False, port=4711)"
   ]
  }
 ],
 "metadata": {
  "kernelspec": {
   "display_name": ".venv",
   "language": "python",
   "name": "python3"
  },
  "language_info": {
   "codemirror_mode": {
    "name": "ipython",
    "version": 3
   },
   "file_extension": ".py",
   "mimetype": "text/x-python",
   "name": "python",
   "nbconvert_exporter": "python",
   "pygments_lexer": "ipython3",
   "version": "3.13.2"
  }
 },
 "nbformat": 4,
 "nbformat_minor": 5
}
