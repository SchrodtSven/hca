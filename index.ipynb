{
 "cells": [
  {
   "cell_type": "markdown",
   "id": "a9824fa0",
   "metadata": {},
   "source": [
    "# Gesundheitswesen"
   ]
  },
  {
   "cell_type": "code",
   "execution_count": 9,
   "id": "a05f40ca",
   "metadata": {},
   "outputs": [
    {
     "data": {
      "text/html": [
       "<div>\n",
       "<style scoped>\n",
       "    .dataframe tbody tr th:only-of-type {\n",
       "        vertical-align: middle;\n",
       "    }\n",
       "\n",
       "    .dataframe tbody tr th {\n",
       "        vertical-align: top;\n",
       "    }\n",
       "\n",
       "    .dataframe thead th {\n",
       "        text-align: right;\n",
       "    }\n",
       "</style>\n",
       "<table border=\"1\" class=\"dataframe\">\n",
       "  <thead>\n",
       "    <tr style=\"text-align: right;\">\n",
       "      <th></th>\n",
       "      <th>geschlecht</th>\n",
       "      <th>jahr</th>\n",
       "      <th>Deutschland</th>\n",
       "      <th>Baden-Württemberg</th>\n",
       "      <th>Bayern</th>\n",
       "    </tr>\n",
       "  </thead>\n",
       "  <tbody>\n",
       "    <tr>\n",
       "      <th>0</th>\n",
       "      <td>männlich</td>\n",
       "      <td>2014</td>\n",
       "      <td>9241703</td>\n",
       "      <td>1029064</td>\n",
       "      <td>1403870</td>\n",
       "    </tr>\n",
       "    <tr>\n",
       "      <th>1</th>\n",
       "      <td>männlich</td>\n",
       "      <td>2015</td>\n",
       "      <td>9344535</td>\n",
       "      <td>1041363</td>\n",
       "      <td>1418202</td>\n",
       "    </tr>\n",
       "    <tr>\n",
       "      <th>2</th>\n",
       "      <td>männlich</td>\n",
       "      <td>2016</td>\n",
       "      <td>9496908</td>\n",
       "      <td>1057850</td>\n",
       "      <td>1440257</td>\n",
       "    </tr>\n",
       "    <tr>\n",
       "      <th>3</th>\n",
       "      <td>männlich</td>\n",
       "      <td>2017</td>\n",
       "      <td>9465908</td>\n",
       "      <td>1060154</td>\n",
       "      <td>1434148</td>\n",
       "    </tr>\n",
       "    <tr>\n",
       "      <th>4</th>\n",
       "      <td>männlich</td>\n",
       "      <td>2018</td>\n",
       "      <td>9427596</td>\n",
       "      <td>1055209</td>\n",
       "      <td>1440826</td>\n",
       "    </tr>\n",
       "  </tbody>\n",
       "</table>\n",
       "</div>"
      ],
      "text/plain": [
       "  geschlecht  jahr  Deutschland  Baden-Württemberg   Bayern\n",
       "0   männlich  2014      9241703            1029064  1403870\n",
       "1   männlich  2015      9344535            1041363  1418202\n",
       "2   männlich  2016      9496908            1057850  1440257\n",
       "3   männlich  2017      9465908            1060154  1434148\n",
       "4   männlich  2018      9427596            1055209  1440826"
      ]
     },
     "execution_count": 9,
     "metadata": {},
     "output_type": "execute_result"
    }
   ],
   "source": [
    "import matplotlib.pyplot as plt\n",
    "import pandas as pd\n",
    "import seaborn as sns\n",
    "\n",
    "sns.set_theme()\n",
    " \n",
    "df = pd.read_csv('data/23131-0005_de_san.csv', sep=';')\n",
    "foo = df[['geschlecht', 'jahr', 'Deutschland', 'Baden-Württemberg', 'Bayern']]\n",
    "\n",
    "\n",
    "foo.head()\n"
   ]
  },
  {
   "cell_type": "code",
   "execution_count": 33,
   "id": "62333d28",
   "metadata": {},
   "outputs": [
    {
     "data": {
      "text/html": [
       "\n",
       "        <iframe\n",
       "            width=\"100%\"\n",
       "            height=\"650\"\n",
       "            src=\"http://127.0.0.1:4711/\"\n",
       "            frameborder=\"0\"\n",
       "            allowfullscreen\n",
       "            \n",
       "        ></iframe>\n",
       "        "
      ],
      "text/plain": [
       "<IPython.lib.display.IFrame at 0x11fec5fd0>"
      ]
     },
     "metadata": {},
     "output_type": "display_data"
    }
   ],
   "source": [
    "from dash import Dash, html, dash_table, dcc, callback, Output, Input\n",
    "import pandas as pd\n",
    "import plotly.express as px\n",
    "import dash_bootstrap_components as dbc\n",
    "from dd import DataDictionary as dd\n",
    "\n",
    "df_s = pd.read_csv('data/23111-0001_de_san.csv', sep=';')\n",
    "cols = ['geschlecht', 'jahr', 'Deutschland', 'Baden-Württemberg', 'Bayern']\n",
    " \n",
    "app = Dash(external_stylesheets=[dbc.themes.BOOTSTRAP])\n",
    "# App layout'\n",
    "fig  = px.line(df_s, x='jahr', y='anz_kh')\n",
    " \n",
    "app.layout = [\n",
    "    html.H1(children='Grunddaten der Krankenhäuser', className=\"m-5\"),\n",
    "    #html.Hr(),\n",
    "    \n",
    "    dash_table.DataTable(data=df_s.to_dict('records'), columns=[{\"name\": i, \"id\": i} for i in df_s.columns], page_size=5),\n",
    "    #dcc.Checklist(options=opt, id='controls-and-check-item', value=['pkv', 'gkv']),\n",
    "    dcc.Graph(figure=fig, id='controls-and-graph')\n",
    "]\n",
    "#fig, ax = plt.subplots()\n",
    "\n",
    "#exit()\n",
    "# Add controls to build the interaction\n",
    "@callback(\n",
    "    Output(component_id='controls-and-graph', component_property='figure'),\n",
    "    Input(component_id='controls-and-check-item', component_property='value')\n",
    ")\n",
    "def update_graph(col_chosen):\n",
    "    print(col_chosen)\n",
    "    foo = df[col_chosen]\n",
    "    fig = px.line(foo, x='jahr',  y='anz_kh')\n",
    "    return fig\n",
    "\n",
    "if __name__ == '__main__':\n",
    "    app.run(debug=False, port=4711)"
   ]
  },
  {
   "cell_type": "code",
   "execution_count": null,
   "id": "b4d469b3",
   "metadata": {},
   "outputs": [
    {
     "name": "stdout",
     "output_type": "stream",
     "text": [
      "anz_kh\n",
      "bett_100k\n",
      "pat_100k\n"
     ]
    },
    {
     "data": {
      "text/plain": [
       "Index(['jahr', 'anz_kh', 'bett', 'bett_100k', 'pat', 'pat_100k', 'ber_bch',\n",
       "       'verweil_dschn', 'bett_aus_dschn'],\n",
       "      dtype='object')"
      ]
     },
     "execution_count": 40,
     "metadata": {},
     "output_type": "execute_result"
    }
   ],
   "source": [
    "from dash import Dash, html, dash_table, dcc, callback, Output, Input\n",
    "import pandas as pd\n",
    "import plotly.express as px\n",
    "import dash_bootstrap_components as dbc\n",
    "from dd import DataDictionary as dd\n",
    "\n",
    "df_s = pd.read_csv(\"data/23111-0001_de_san.csv\", sep=\";\")\n",
    "cols = [\n",
    "    \"jahr\",\n",
    "    \"anz_kh\",\n",
    "    \"bett\",\n",
    "    \"bett_100k\",\n",
    "    \"pat\",\n",
    "    \"pat_100k\",\n",
    "    \"ber_bch\",\n",
    "    \"verweil_dschn\",\n",
    "    \"bett_aus_dschn\",\n",
    "]\n",
    "\n",
    "sel_cols = [\n",
    "    \"anz_kh\",\n",
    "    \"bett_100k\",\n",
    "    \"pat_100k\"\n",
    "]\n",
    "for col in sel_cols:\n",
    "    print(col)\n",
    "    px.line(df_s, x='jahr', y=col);\n",
    "\n",
    "#df_s.keys()"
   ]
  }
 ],
 "metadata": {
  "kernelspec": {
   "display_name": ".venv",
   "language": "python",
   "name": "python3"
  },
  "language_info": {
   "codemirror_mode": {
    "name": "ipython",
    "version": 3
   },
   "file_extension": ".py",
   "mimetype": "text/x-python",
   "name": "python",
   "nbconvert_exporter": "python",
   "pygments_lexer": "ipython3",
   "version": "3.13.2"
  }
 },
 "nbformat": 4,
 "nbformat_minor": 5
}
